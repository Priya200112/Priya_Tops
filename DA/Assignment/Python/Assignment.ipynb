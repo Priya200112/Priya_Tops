{
 "cells": [
  {
   "cell_type": "code",
   "execution_count": null,
   "id": "25d62a29-fadc-4f70-a33c-16bf03b10451",
   "metadata": {},
   "outputs": [],
   "source": [
    "#1) What are the types of Applications? \n",
    "#Answer:\n",
    "\"\"\" 1)Web development: Python is used to build websites and web applications\n",
    "    2)Software development: Python is used to create software\n",
    "    3)Data science: Python is used for data analysis and machine learning\n",
    "    4)Automation: Python can be used to automate tasks \"\"\""
   ]
  },
  {
   "cell_type": "code",
   "execution_count": null,
   "id": "ee66ba2c-8172-42d5-be56-25c5a62bec0b",
   "metadata": {},
   "outputs": [],
   "source": [
    "#2) What is programing? \n",
    "#Answer:\n",
    "\"\"\"Programming is the process of writing instructions, or code, to tell a computer how to perform a task or solve a problem. \n",
    "Programmers write, test, and maintain code in languages like Python, JavaScript, and C++.\"\"\""
   ]
  },
  {
   "cell_type": "code",
   "execution_count": null,
   "id": "a83646b3-b68f-44fb-aee9-5369c2a4369d",
   "metadata": {},
   "outputs": [],
   "source": [
    "#3) What is Python? \n",
    "#Answer:\n",
    "\"\"\"Python is a high-level, general-purpose programming language.\n",
    "-It is one of the most popular programming languages.\n",
    "-It was created by Guido van Rossum and first released in 1991.\n",
    "-Python used for\n",
    "        Web development: Python is used to build websites and web applications\n",
    "        Software development: Python is used to create software\n",
    "        Data science: Python is used for data analysis and machine learning\n",
    "        Automation: Python can be used to automate tasks "
   ]
  },
  {
   "cell_type": "code",
   "execution_count": 519,
   "id": "9c00197f-942d-4015-a5b0-3e82a8cca630",
   "metadata": {},
   "outputs": [
    {
     "name": "stdin",
     "output_type": "stream",
     "text": [
      "Enter a number: -2\n"
     ]
    },
    {
     "name": "stdout",
     "output_type": "stream",
     "text": [
      "Number is Negative\n"
     ]
    }
   ],
   "source": [
    "#4) Write a Python program to check if a number is positive, negative or Zero.\n",
    "num=int(input(\"Enter a number:\"))\n",
    "if num>0:\n",
    "    print(\"Number is Positive\")\n",
    "elif num==0:\n",
    "    print(\"Zero\")\n",
    "else:\n",
    "    print(\"Number is Negative\")"
   ]
  },
  {
   "cell_type": "code",
   "execution_count": 344,
   "id": "a1c45368-81cc-4ed2-afb2-3e5455d1d6f0",
   "metadata": {},
   "outputs": [
    {
     "name": "stdin",
     "output_type": "stream",
     "text": [
      "Enter a number: 5\n"
     ]
    },
    {
     "name": "stdout",
     "output_type": "stream",
     "text": [
      "Factorial of  5 is 120\n"
     ]
    }
   ],
   "source": [
    "#5) Write a Python program to get the Factorial number of given numbers. \n",
    "num=int(input(\"Enter a number:\"))\n",
    "f=1\n",
    "if num<0:\n",
    "    print(\"Factorial non defined for negative number:\")\n",
    "elif num==0:\n",
    "    print(\"For 0 factorial is 1\")\n",
    "else:\n",
    "    for i in range(1,num+1):\n",
    "        f*=i\n",
    "print(\"Factorial of \",num, \"is\",f)\n",
    "    "
   ]
  },
  {
   "cell_type": "code",
   "execution_count": 14,
   "id": "75c2e06a-1e37-443c-b6fd-29d3e3b25dee",
   "metadata": {},
   "outputs": [
    {
     "name": "stdin",
     "output_type": "stream",
     "text": [
      "Enter a range: 7\n"
     ]
    },
    {
     "name": "stdout",
     "output_type": "stream",
     "text": [
      "0\n",
      "1\n",
      "1\n",
      "2\n",
      "3\n",
      "5\n",
      "8\n"
     ]
    }
   ],
   "source": [
    "#6) Write a Python program to get the Fibonacci series of given range.\n",
    "x=int(input(\"Enter a range:\"))\n",
    "a=0\n",
    "b=1\n",
    "print(a)\n",
    "print(b)\n",
    "for i in range(2,x):\n",
    "    c=a+b\n",
    "    print(c)\n",
    "    a=b\n",
    "    b=c"
   ]
  },
  {
   "cell_type": "code",
   "execution_count": null,
   "id": "0e51dc57-9ff0-480a-9f7a-4e5cdd5a0d48",
   "metadata": {},
   "outputs": [],
   "source": [
    "#7) How memory is managed in Python?\n",
    "#Answer:\n",
    "\"\"\"Python has a private heap space that stores all the objects. \n",
    "The Python memory manager regulates various aspects of this heap, such as sharing, caching, segmentation, and allocation.\n",
    "The user cannot control the heap; only the Python interpreter has access.\"\"\""
   ]
  },
  {
   "cell_type": "code",
   "execution_count": 518,
   "id": "455079ae-fc8d-419c-80cd-f40ae76d351b",
   "metadata": {},
   "outputs": [
    {
     "name": "stdout",
     "output_type": "stream",
     "text": [
      "1\n",
      "3\n",
      "5\n",
      "7\n",
      "9\n"
     ]
    }
   ],
   "source": [
    "#8) What is the purpose continuing statement in python? \n",
    "#Answer:\n",
    "\"\"\"The continue statement in Python is used to skip the rest of the code inside a loop for the current iteration and move to the next iteration of \n",
    "the loop.\n",
    "-It allows the loop to \"continue\" to the next iteration without executing the code that follows it within the loop body.\"\"\"\n",
    "#Example:\n",
    "for i in range(1, 11):\n",
    "    if i % 2 == 0: \n",
    "        continue\n",
    "    print(i)"
   ]
  },
  {
   "cell_type": "code",
   "execution_count": 20,
   "id": "5255244a-7f56-42e6-b860-4b1884240041",
   "metadata": {},
   "outputs": [
    {
     "name": "stdin",
     "output_type": "stream",
     "text": [
      "Enter first number: 4\n",
      "Enter second number: 5\n"
     ]
    },
    {
     "name": "stdout",
     "output_type": "stream",
     "text": [
      "5\n",
      "4\n"
     ]
    }
   ],
   "source": [
    "#9) Write python program that swap two number with temp variable and without temp variable. \n",
    "a=int(input(\"Enter first number:\"))\n",
    "b=int(input(\"Enter second number:\"))\n",
    "c=a\n",
    "a=b\n",
    "b=c\n",
    "print(a)\n",
    "print(b)\n"
   ]
  },
  {
   "cell_type": "code",
   "execution_count": 21,
   "id": "76768635-9755-4bd3-a100-81283174e63e",
   "metadata": {},
   "outputs": [
    {
     "name": "stdin",
     "output_type": "stream",
     "text": [
      "Enter first number: 4\n",
      "Enter second number: 5\n"
     ]
    },
    {
     "name": "stdout",
     "output_type": "stream",
     "text": [
      "5\n",
      "4\n"
     ]
    }
   ],
   "source": [
    "a=int(input(\"Enter first number:\"))\n",
    "b=int(input(\"Enter second number:\"))\n",
    "a,b=b,a\n",
    "print(a)\n",
    "print(b)"
   ]
  },
  {
   "cell_type": "code",
   "execution_count": 24,
   "id": "39c93199-2a07-4ee1-a821-0aaf7ed26e03",
   "metadata": {},
   "outputs": [
    {
     "name": "stdin",
     "output_type": "stream",
     "text": [
      "Enter a number: 6\n"
     ]
    },
    {
     "name": "stdout",
     "output_type": "stream",
     "text": [
      "Given number is even\n"
     ]
    }
   ],
   "source": [
    "#10) Write a Python program to find whether a given number is even or odd, print out an appropriate message to the user. \n",
    "n=int(input(\"Enter a number:\"))\n",
    "if n%2==0:\n",
    "    print(\"Given number is even\")\n",
    "else:\n",
    "    print(\"Given number is odd\")"
   ]
  },
  {
   "cell_type": "code",
   "execution_count": 31,
   "id": "9550d69b-1298-49e9-a7f1-1ecc05ce888c",
   "metadata": {},
   "outputs": [
    {
     "name": "stdin",
     "output_type": "stream",
     "text": [
      "Enter a letter: d\n"
     ]
    },
    {
     "name": "stdout",
     "output_type": "stream",
     "text": [
      "Not Vowel\n"
     ]
    }
   ],
   "source": [
    "#11) Write a Python program to test whether a passed letter is a vowel or not.\n",
    "c=input(\"Enter a letter:\")\n",
    "if c=='a' or c=='e' or c=='i' or c=='o' or c=='u' or c=='A' or c=='E' or c=='I' or c=='O' or c=='U':\n",
    "    print(\"Vowel\")\n",
    "else:\n",
    "    print(\"Not Vowel\")\n",
    "\n"
   ]
  },
  {
   "cell_type": "code",
   "execution_count": 34,
   "id": "3025aa50-e992-47cc-9b3e-879246045a5f",
   "metadata": {},
   "outputs": [
    {
     "name": "stdin",
     "output_type": "stream",
     "text": [
      "Enter first number: 4\n",
      "Enter second number: 5\n",
      "Enter third number: 4\n"
     ]
    },
    {
     "name": "stdout",
     "output_type": "stream",
     "text": [
      "Sum Will be Zero\n"
     ]
    }
   ],
   "source": [
    "#12) Write a Python program to sum of three given integers. However, if two values are equal sum will be zero.\n",
    "a=int(input(\"Enter first number:\"))\n",
    "b=int(input(\"Enter second number:\"))\n",
    "c=int(input(\"Enter third number:\"))\n",
    "sum=a+b+c\n",
    "if a==b or a==c or b==c:\n",
    "    print(\"Sum Will be Zero\")\n",
    "else:\n",
    "    print(\"sum of three integers is:\",sum)"
   ]
  },
  {
   "cell_type": "code",
   "execution_count": 2,
   "id": "d72b5c7e-23ee-4efb-899d-b9aca0c34828",
   "metadata": {},
   "outputs": [
    {
     "name": "stdin",
     "output_type": "stream",
     "text": [
      "Enter first number: 8\n",
      "Enter second number: 4\n"
     ]
    },
    {
     "name": "stdout",
     "output_type": "stream",
     "text": [
      "False\n"
     ]
    }
   ],
   "source": [
    "#13) Write a Python program that will return true if the two given integer values are equal or their sum or difference is 5.\n",
    "a=int(input(\"Enter first number:\"))\n",
    "b=int(input(\"Enter second number:\"))\n",
    "if a==b or a+b==5 or a-b==5:\n",
    "     print(\"True\")\n",
    "else:\n",
    "    print(\"False\")\n"
   ]
  },
  {
   "cell_type": "code",
   "execution_count": 1,
   "id": "074540e1-671b-4069-a3f1-7c78992d03bf",
   "metadata": {},
   "outputs": [
    {
     "name": "stdin",
     "output_type": "stream",
     "text": [
      "Enter range of number: 5\n"
     ]
    },
    {
     "name": "stdout",
     "output_type": "stream",
     "text": [
      "15\n"
     ]
    }
   ],
   "source": [
    "#14) Write a python program to sum of the first n positive integers.\n",
    "k=int(input(\"Enter range of number:\"))\n",
    "sum=0\n",
    "for i in range(1,k+1):\n",
    "    sum+=i\n",
    "print(sum)"
   ]
  },
  {
   "cell_type": "code",
   "execution_count": 58,
   "id": "e41d5976-7683-4ecc-a251-dfa628df86d6",
   "metadata": {},
   "outputs": [
    {
     "name": "stdin",
     "output_type": "stream",
     "text": [
      "Enter range of number: 5\n"
     ]
    },
    {
     "name": "stdout",
     "output_type": "stream",
     "text": [
      "15\n"
     ]
    }
   ],
   "source": [
    "k=int(input(\"Enter range of number:\"))\n",
    "sum=(k*(k+1))//2\n",
    "print(sum)"
   ]
  },
  {
   "cell_type": "code",
   "execution_count": 61,
   "id": "bfddfaf3-8204-4c97-b958-372c4d374969",
   "metadata": {},
   "outputs": [
    {
     "name": "stdin",
     "output_type": "stream",
     "text": [
      "enter a string : my name is priya rathod\n"
     ]
    },
    {
     "name": "stdout",
     "output_type": "stream",
     "text": [
      "23\n"
     ]
    }
   ],
   "source": [
    "#15) Write a Python program to calculate the length of a string.\n",
    "d=input(\"enter a string :\")\n",
    "print(len(d))"
   ]
  },
  {
   "cell_type": "code",
   "execution_count": 62,
   "id": "cb418921-f4a4-47e6-96fe-cb3d58d053e4",
   "metadata": {},
   "outputs": [
    {
     "name": "stdin",
     "output_type": "stream",
     "text": [
      "enter a string : i am piu\n"
     ]
    },
    {
     "name": "stdout",
     "output_type": "stream",
     "text": [
      "{'i': 2, ' ': 2, 'a': 1, 'm': 1, 'p': 1, 'u': 1}\n"
     ]
    }
   ],
   "source": [
    "#16) Write a Python program to count the number of characters (character frequency) in a string.\n",
    "s=input(\"enter a string :\")\n",
    "d={}\n",
    "for i in s:\n",
    "    if i in d:\n",
    "        d[i]+=1\n",
    "    else:\n",
    "        d[i]=1\n",
    "print(d)"
   ]
  },
  {
   "cell_type": "code",
   "execution_count": 515,
   "id": "b5b05ec2-af11-4cd3-87f8-f9a93be82b6e",
   "metadata": {},
   "outputs": [
    {
     "name": "stdout",
     "output_type": "stream",
     "text": [
      "6\n"
     ]
    }
   ],
   "source": [
    "#17) What are negative indexes and why are they used? \n",
    "#Answer:\n",
    "\"\"\"Negative indexes are used to access elements from the end of a list, string, or other iterable, counting backward from the last element.\n",
    "USED:Negative indexing provides a convenient and quick way to access elements at the end of a list or string, \n",
    "especially when you do not know or do not want to calculate the exact position from the beginning.\n",
    "It is used when you need to access elements near the end without explicitly calculating their index from the start.\"\"\"\n",
    "list95=[1, 2, 4, 5, 6, 7, 2, 1, 4, 5, 6, 7]\n",
    "print(list95[-2])"
   ]
  },
  {
   "cell_type": "code",
   "execution_count": 510,
   "id": "c61913c4-a3d6-4fd8-803a-efeb5f17326e",
   "metadata": {},
   "outputs": [
    {
     "name": "stdin",
     "output_type": "stream",
     "text": [
      "Enter a string: my name is priya and it is my notbook\n",
      "Enter a substring: my\n"
     ]
    },
    {
     "name": "stdout",
     "output_type": "stream",
     "text": [
      "2\n"
     ]
    }
   ],
   "source": [
    "#18) Write a Python program to count occurrences of a substring in a string. \n",
    "st=input(\"Enter a string:\")\n",
    "sub=input(\"Enter a substring:\")\n",
    "c=st.count(sub)\n",
    "print(c)"
   ]
  },
  {
   "cell_type": "code",
   "execution_count": 2,
   "id": "06293be7-593b-4c68-8241-8094da8dc71d",
   "metadata": {},
   "outputs": [
    {
     "name": "stdin",
     "output_type": "stream",
     "text": [
      "Enter a string: my name is priya and i am 23 year old. my sister name is suruchi.\n"
     ]
    },
    {
     "name": "stdout",
     "output_type": "stream",
     "text": [
      "{'my': 2, 'name': 2, 'is': 2, 'priya': 1, 'and': 1, 'i': 1, 'am': 1, '23': 1, 'year': 1, 'old.': 1, 'sister': 1, 'suruchi.': 1}\n"
     ]
    }
   ],
   "source": [
    "#19) Write a Python program to count the occurrences of each word in a given sentence \n",
    "st=input(\"Enter a string:\")\n",
    "d={}\n",
    "words=st.split()\n",
    "for i in words:\n",
    "    if i in d:\n",
    "        d[i]+=1\n",
    "    else:\n",
    "        d[i]=1\n",
    "print(d)"
   ]
  },
  {
   "cell_type": "code",
   "execution_count": 13,
   "id": "2c61443d-daba-4391-a1ee-19e32175015d",
   "metadata": {},
   "outputs": [
    {
     "name": "stdin",
     "output_type": "stream",
     "text": [
      "Enter a sentence: appu\n",
      "Enter a sentence: gappu\n"
     ]
    },
    {
     "name": "stdout",
     "output_type": "stream",
     "text": [
      "gapu apppu\n"
     ]
    }
   ],
   "source": [
    "#20) Write a Python program to get a single string from two given strings,separated by a space and swap the first two characters of each string.\n",
    "s1=input(\"Enter a sentence:\")\n",
    "s2=input(\"Enter a sentence:\")\n",
    "s3=s2[0:2]+s1[2:]\n",
    "s4=s1[0:2]+s2[2:]\n",
    "print(s3+\" \"+s4)"
   ]
  },
  {
   "cell_type": "code",
   "execution_count": 18,
   "id": "94bd50ea-2121-4c66-b185-40cc58acb8d5",
   "metadata": {},
   "outputs": [
    {
     "name": "stdin",
     "output_type": "stream",
     "text": [
      "Enter a string: priya\n"
     ]
    },
    {
     "name": "stdout",
     "output_type": "stream",
     "text": [
      "priyain\n"
     ]
    }
   ],
   "source": [
    "\"\"\"21) Write a Python program to add 'in' at the end of a given string (length should be at least 3). If the given string already ends with 'ing' then \n",
    "add 'ly' instead if the string length of the given string is less than 3,leave it unchanged.\"\"\"\n",
    "st=input(\"Enter a string:\")\n",
    "if len(st)<3:\n",
    "    print(st)\n",
    "elif st.endswith(\"ing\"):\n",
    "    print(st + \"ly\")\n",
    "else:\n",
    "    print(st +\"in\")"
   ]
  },
  {
   "cell_type": "code",
   "execution_count": 36,
   "id": "1b133e8c-fb8b-4cce-ae8a-9e579fde4a71",
   "metadata": {},
   "outputs": [],
   "source": [
    "#22) Write a Python function to reverses a string if its length is a multiple of 4.\n",
    "def rev(s):\n",
    "    if len(s)%4==0:\n",
    "        print(s[::-1])\n",
    "    else:\n",
    "        print(s)"
   ]
  },
  {
   "cell_type": "code",
   "execution_count": 37,
   "id": "856efd2f-e339-4e29-9871-9eb505e405ad",
   "metadata": {},
   "outputs": [
    {
     "name": "stdout",
     "output_type": "stream",
     "text": [
      "priya\n"
     ]
    }
   ],
   "source": [
    "rev(\"priya\")"
   ]
  },
  {
   "cell_type": "code",
   "execution_count": 44,
   "id": "eda062d3-4e33-4897-bb5d-bc4e0671852d",
   "metadata": {},
   "outputs": [],
   "source": [
    "def rev1(s):\n",
    "    if len(s) % 4 == 0:\n",
    "        print(''.join(reversed(s)))\n",
    "    else:\n",
    "    \tprint(s)\n"
   ]
  },
  {
   "cell_type": "code",
   "execution_count": 46,
   "id": "792e8e88-2c9a-4667-9019-5ee89d5c3e0a",
   "metadata": {},
   "outputs": [
    {
     "name": "stdout",
     "output_type": "stream",
     "text": [
      "yirp\n"
     ]
    }
   ],
   "source": [
    "rev1(\"priy\")"
   ]
  },
  {
   "cell_type": "code",
   "execution_count": 509,
   "id": "712d141d-d8ff-415f-b5e7-36159c244072",
   "metadata": {},
   "outputs": [
    {
     "name": "stdin",
     "output_type": "stream",
     "text": [
      "enter a string: priya rathod\n"
     ]
    },
    {
     "name": "stdout",
     "output_type": "stream",
     "text": [
      "prod\n"
     ]
    }
   ],
   "source": [
    "\"\"\"23) Write a Python program to get a string made of the first 2 and the last 2 chars from a given a string.\n",
    "If the string length is less than 2, return instead of the empty string.\"\"\"\n",
    "st=input(\"enter a string:\")\n",
    "if len(st)<2:\n",
    "    print('')\n",
    "else:\n",
    "    print(st[:2]+st[-2:])"
   ]
  },
  {
   "cell_type": "code",
   "execution_count": 79,
   "id": "e8bb8d0f-fdce-4c74-9e3c-22e7056d5151",
   "metadata": {},
   "outputs": [],
   "source": [
    "#24) Write a Python function to insert a string in the middle of a string.\n",
    "def middle(st,st2):\n",
    "    a=st.split()\n",
    "    a1=len(a)//2\n",
    "    mid=' '.join(a[:a1]+[st2]+a[a1:])\n",
    "    print(mid)"
   ]
  },
  {
   "cell_type": "code",
   "execution_count": 80,
   "id": "a6878a73-408d-4c6b-92cd-4c74f53bf48e",
   "metadata": {},
   "outputs": [
    {
     "name": "stdout",
     "output_type": "stream",
     "text": [
      "priya H rathod\n"
     ]
    }
   ],
   "source": [
    "middle(\"priya rathod\",\"H\")"
   ]
  },
  {
   "cell_type": "code",
   "execution_count": 508,
   "id": "51be18a2-933f-4011-8113-dcf1e2e9a021",
   "metadata": {},
   "outputs": [
    {
     "name": "stdout",
     "output_type": "stream",
     "text": [
      "[4, 3, 2, 5, 1]\n"
     ]
    }
   ],
   "source": [
    "#25) What is List? How will you reverse a list? \n",
    "#Answer:\n",
    "\"\"\"A list is a collection.\n",
    "-That is used to store multiple items in a single variable,and they can hold items of different types,\n",
    "such as integers, strings, or even other lists.\n",
    "-list are created using square brackets[].\n",
    "-list items are orderd,mutable and allow duplicates.\"\"\"\n",
    "\n",
    "l1=[1,5,2,3,4]\n",
    "l1.reverse()\n",
    "print(l1)"
   ]
  },
  {
   "cell_type": "code",
   "execution_count": 94,
   "id": "c04cb398-0fe7-4707-889b-3f813252455a",
   "metadata": {},
   "outputs": [
    {
     "name": "stdout",
     "output_type": "stream",
     "text": [
      "[4, 3, 2, 5, 1]\n"
     ]
    }
   ],
   "source": [
    "l1=[1,5,2,3,4]\n",
    "print(l1[::-1])"
   ]
  },
  {
   "cell_type": "code",
   "execution_count": 95,
   "id": "a9d69a1e-b69b-4c81-819d-725d6d908c5b",
   "metadata": {},
   "outputs": [
    {
     "name": "stdout",
     "output_type": "stream",
     "text": [
      "[1, 'a', 'b', 5, 'c', 'd']\n"
     ]
    }
   ],
   "source": [
    "#26) How will you remove last object from a list? \n",
    "l2=[1,\"a\",\"b\",5,\"c\",\"d\",9]\n",
    "l2.pop()\n",
    "print(l2)"
   ]
  },
  {
   "cell_type": "code",
   "execution_count": 98,
   "id": "bd0d9e43-be5d-4c33-85f6-04a9a3566f7b",
   "metadata": {},
   "outputs": [
    {
     "name": "stdout",
     "output_type": "stream",
     "text": [
      "33\n"
     ]
    }
   ],
   "source": [
    "#27) Suppose list1 is [2, 33, 222, 14, and 25], what is list1 [1]? \n",
    "#answer:33\n",
    "list1=[2, 33, 222, 14, 25]\n",
    "print(list1[1])"
   ]
  },
  {
   "cell_type": "code",
   "execution_count": 507,
   "id": "44064300-5ac5-4245-8436-c6c23ec30179",
   "metadata": {},
   "outputs": [
    {
     "name": "stdout",
     "output_type": "stream",
     "text": [
      "Append list: [1, 2, 3, [4, 5]]\n",
      "Extend list: [1, 2, 3, 4, 5]\n"
     ]
    }
   ],
   "source": [
    "#28) Differentiate between append () and extend () methods?\n",
    "#Answer:\n",
    "\"\"\"append() :- adds a single element (whatever you pass) to the end of the list.\n",
    "extend():- adds each element from an iterable (like another list, string, or tuple) to the list individually.\"\"\"\n",
    "list78 = [1, 2, 3]\n",
    "list78.append([4,5])\n",
    "list79 = [1, 2, 3]\n",
    "list79.extend([4, 5])\n",
    "print(\"Append list:\",list78)\n",
    "print(\"Extend list:\",list79)"
   ]
  },
  {
   "cell_type": "code",
   "execution_count": 127,
   "id": "323b700c-d749-48d7-b9ac-523d5da2fb6a",
   "metadata": {},
   "outputs": [
    {
     "name": "stdout",
     "output_type": "stream",
     "text": [
      "sum: 7426\n",
      "Largest number : 6654\n",
      "smallest number : 2\n"
     ]
    }
   ],
   "source": [
    "#29) Write a Python function to get the largest number, smallest num and sum of all from a list.\n",
    "l3=[4,2,5,98,64,599,6654]\n",
    "print(\"sum:\",sum(l3))\n",
    "print(\"Largest number :\",max(l3))\n",
    "print(\"smallest number :\",min(l3))"
   ]
  },
  {
   "cell_type": "code",
   "execution_count": 128,
   "id": "ebc6c66b-c6bd-4432-a532-17e08da674c6",
   "metadata": {},
   "outputs": [
    {
     "name": "stdout",
     "output_type": "stream",
     "text": [
      "sum: 7426\n",
      "Largest number : 6654\n",
      "smallest number : 2\n"
     ]
    }
   ],
   "source": [
    "l3=[4,2,5,98,64,599,6654]\n",
    "a=0\n",
    "l3.sort()\n",
    "for i in l3:\n",
    "    a+=i\n",
    "print(\"sum:\",a)\n",
    "print(\"Largest number :\",l3[-1])\n",
    "print(\"smallest number :\",l3[0])"
   ]
  },
  {
   "cell_type": "code",
   "execution_count": 139,
   "id": "aefe1e98-4ddb-4632-83a8-15c3bd2d2050",
   "metadata": {},
   "outputs": [
    {
     "name": "stdout",
     "output_type": "stream",
     "text": [
      "list l1 and l3 are same\n"
     ]
    }
   ],
   "source": [
    "#30) How will you compare two lists?\n",
    "l1=[1,5,2,3,4,6]\n",
    "l2=[4,2,5,98,64,599,6654]\n",
    "l3=[1,2,3,4,5,6]\n",
    "l1.sort()\n",
    "l2.sort()\n",
    "l3.sort()\n",
    "if l1==l2:\n",
    "    print(\"list l1 and l2 are same\")\n",
    "elif l1==l3:\n",
    "    print(\"list l1 and l3 are same\")\n",
    "elif l2==l3:\n",
    "    print(\"list l1 and l3 are same\")\n",
    "else:\n",
    "    print(\"l1,l2 and l3 are different\")\n",
    "    "
   ]
  },
  {
   "cell_type": "code",
   "execution_count": 138,
   "id": "a4ed4f39-9223-4068-bf35-1f8336ddd01e",
   "metadata": {},
   "outputs": [
    {
     "name": "stdout",
     "output_type": "stream",
     "text": [
      "list l1 and l2 are same\n"
     ]
    }
   ],
   "source": [
    "l1=[1,5,2,3,4]\n",
    "l2=[1,2,3,4,5,5]\n",
    "a=set(l1)\n",
    "b=set(l2)\n",
    "if a==b:\n",
    "    print(\"list l1 and l2 are same\")\n",
    "else:\n",
    "    print(\"list l1 and l2 are different\")"
   ]
  },
  {
   "cell_type": "code",
   "execution_count": 504,
   "id": "5db40f95-3af5-4d07-9c0c-26d4ee648807",
   "metadata": {},
   "outputs": [
    {
     "name": "stdout",
     "output_type": "stream",
     "text": [
      "3\n"
     ]
    }
   ],
   "source": [
    "#31) Write a Python program to count the number of strings where the string  length is 2 or more and \n",
    "#the first and last character are same from a given list of strings.\n",
    "l5=['abc', 'xyz', 'aba', '1221', 'hello', '121']\n",
    "ctr = 0\n",
    "for word in l5:\n",
    "    if len(word) > 1 and word[0] == word[-1]:\n",
    "        ctr += 1\n",
    "print(ctr)"
   ]
  },
  {
   "cell_type": "code",
   "execution_count": 144,
   "id": "1fbc3692-6117-4ff0-8ee7-de2bd3fc05d3",
   "metadata": {},
   "outputs": [
    {
     "name": "stdout",
     "output_type": "stream",
     "text": [
      "[1, 'a', 99, 4, 5, 'b', 9, 'c', 'd']\n"
     ]
    }
   ],
   "source": [
    "#32) Write a Python program to remove duplicates from a list.\n",
    "list4=[1,\"a\",\"b\",5,\"c\",\"d\",9,99,4,\"a\",1]\n",
    "a=set(list4)\n",
    "b=list(a)\n",
    "print(b)"
   ]
  },
  {
   "cell_type": "code",
   "execution_count": 148,
   "id": "4c02c503-6698-465a-a493-8c28561d8823",
   "metadata": {},
   "outputs": [
    {
     "name": "stdout",
     "output_type": "stream",
     "text": [
      "List is empty\n"
     ]
    }
   ],
   "source": [
    "#33) Write a Python program to check a list is empty or not. \n",
    "l=[]\n",
    "if not l:\n",
    "    print(\"List is empty\")\n",
    "else:\n",
    "    print(\"List is not empty\")"
   ]
  },
  {
   "cell_type": "code",
   "execution_count": 149,
   "id": "30d059d7-2437-46b8-a9c0-e84f924008d9",
   "metadata": {},
   "outputs": [
    {
     "name": "stdout",
     "output_type": "stream",
     "text": [
      "List is not empty\n"
     ]
    }
   ],
   "source": [
    "l=[1,\"a\",\"b\",5,\"c\",\"d\",9,99,4,\"a\",1]\n",
    "if not l:\n",
    "    print(\"List is empty\")\n",
    "else:\n",
    "    print(\"List is not empty\")"
   ]
  },
  {
   "cell_type": "code",
   "execution_count": 179,
   "id": "e3e8d7fd-26e0-4911-beb5-774bc162d790",
   "metadata": {},
   "outputs": [],
   "source": [
    "#34) Write a Python function that takes two lists and returns true if they have at least one common member.\n",
    "def comm(list1,list2):\n",
    "    result=False\n",
    "    for x in list1:\n",
    "        for y in list2:\n",
    "            if x==y:\n",
    "                result = True\n",
    "                return result\n",
    "    return result"
   ]
  },
  {
   "cell_type": "code",
   "execution_count": 180,
   "id": "f420eb2d-0c69-4a7f-a628-b6363819079c",
   "metadata": {},
   "outputs": [
    {
     "data": {
      "text/plain": [
       "False"
      ]
     },
     "execution_count": 180,
     "metadata": {},
     "output_type": "execute_result"
    }
   ],
   "source": [
    "comm([1,2,3,7,8],[55,78,565962,596,1256])"
   ]
  },
  {
   "cell_type": "code",
   "execution_count": 181,
   "id": "0b6e76ae-46d8-41bc-a8fe-4d01708c6df7",
   "metadata": {},
   "outputs": [
    {
     "data": {
      "text/plain": [
       "True"
      ]
     },
     "execution_count": 181,
     "metadata": {},
     "output_type": "execute_result"
    }
   ],
   "source": [
    "comm([1,2,3,7,8],[9,4,5,7,0,6])"
   ]
  },
  {
   "cell_type": "code",
   "execution_count": 193,
   "id": "d363b694-77b6-4d97-a4dc-49af9a21ad82",
   "metadata": {},
   "outputs": [
    {
     "name": "stdout",
     "output_type": "stream",
     "text": [
      "First five element of list: [1, 4, 9, 16, 25]\n",
      "Last five element of list: [625, 676, 729, 784, 841]\n"
     ]
    }
   ],
   "source": [
    "#35) Write a Python program to generate and print a list of first and last 5 \n",
    "#elements where the values are square of numbers between 1 and 30.\n",
    "li=[]\n",
    "for i in range(1,30):\n",
    "    li.append(i**2)\n",
    "print(\"First five element of list:\",li[:5])\n",
    "print(\"Last five element of list:\",li[-5:])"
   ]
  },
  {
   "cell_type": "code",
   "execution_count": 194,
   "id": "48cc3fb5-743f-4d5a-992a-59c91df94d86",
   "metadata": {},
   "outputs": [],
   "source": [
    "#36) Write a Python function that takes a list and returns a new list with unique elements of the first list.\n",
    "def uni(list55):\n",
    "    a=set(list55)\n",
    "    b=list(a)\n",
    "    print(b)"
   ]
  },
  {
   "cell_type": "code",
   "execution_count": 195,
   "id": "07ab33c8-dd79-4e80-995a-3492634af54f",
   "metadata": {},
   "outputs": [
    {
     "name": "stdout",
     "output_type": "stream",
     "text": [
      "[1, 2, 4, 5, 6, 7]\n"
     ]
    }
   ],
   "source": [
    "uni([1,2,4,5,6,7,2,1,4,5,6,7])"
   ]
  },
  {
   "cell_type": "code",
   "execution_count": 200,
   "id": "93ed249e-8ce3-4bab-9c40-9cafa1e01e97",
   "metadata": {},
   "outputs": [],
   "source": [
    "def unii(list5):\n",
    "    o=[]\n",
    "    for i in list5:\n",
    "        if i not in o:\n",
    "            o.append(i)\n",
    "    print(o)"
   ]
  },
  {
   "cell_type": "code",
   "execution_count": 201,
   "id": "ad4e2335-cbe9-4757-9536-92812eb16fd3",
   "metadata": {},
   "outputs": [
    {
     "name": "stdout",
     "output_type": "stream",
     "text": [
      "[1, 2, 4, 5, 6, 7]\n"
     ]
    }
   ],
   "source": [
    "unii([1,2,4,5,6,7,2,1,4,5,6,7])"
   ]
  },
  {
   "cell_type": "code",
   "execution_count": 213,
   "id": "5ffbd591-0626-465a-a6b5-03be62f62f52",
   "metadata": {},
   "outputs": [
    {
     "name": "stdout",
     "output_type": "stream",
     "text": [
      "PRIYA\n"
     ]
    }
   ],
   "source": [
    "#37) Write a Python program to convert a list of characters into a string.\n",
    "list6=[\"P\",\"R\",\"I\",\"Y\",\"A\"]\n",
    "a=\"\".join(list6)\n",
    "print(a)"
   ]
  },
  {
   "cell_type": "code",
   "execution_count": 219,
   "id": "d33856ee-1e09-48e3-a71a-6d3b2643e07d",
   "metadata": {},
   "outputs": [
    {
     "name": "stdout",
     "output_type": "stream",
     "text": [
      "Select an item randomly : 9\n",
      "Select an item randomly : R\n"
     ]
    }
   ],
   "source": [
    "#38) Write a Python program to select an item randomly from a list.\n",
    "import random\n",
    "lis=[1,2,3,4,5,6,7,8,9]\n",
    "print(\"Select an item randomly :\",random.choice(lis))\n",
    "list7=[\"P\",\"R\",\"I\",\"Y\",\"A\"]\n",
    "print(\"Select an item randomly :\",random.choice(list7))"
   ]
  },
  {
   "cell_type": "code",
   "execution_count": 227,
   "id": "34242f65-3e09-4cb2-a5e9-a65f784640d8",
   "metadata": {},
   "outputs": [
    {
     "name": "stdout",
     "output_type": "stream",
     "text": [
      "[33, 45, 55, 58, 75, 77, 78, 594]\n",
      "Second smallest number ina list is: 45\n"
     ]
    }
   ],
   "source": [
    "#39) Write a Python program to find the second smallest number in a list. \n",
    "list7=[55,77,58,594,45,75,33,33,45,78]\n",
    "a=set(list7)\n",
    "b=list(a)\n",
    "b.sort()\n",
    "print(b)\n",
    "print(\"Second smallest number ina list is:\",b[1])"
   ]
  },
  {
   "cell_type": "code",
   "execution_count": 229,
   "id": "dbbf8746-83d4-42ae-ad40-7461fa6cea46",
   "metadata": {},
   "outputs": [
    {
     "name": "stdout",
     "output_type": "stream",
     "text": [
      "My list: [1, 2, 4, 5, 6, 7, 2, 1, 4, 5, 6, 7]\n",
      "Unique Value is: [1, 2, 4, 5, 6, 7]\n"
     ]
    }
   ],
   "source": [
    "#40) Write a Python program to get unique values from a list\n",
    "list8=[1,2,4,5,6,7,2,1,4,5,6,7]\n",
    "a1=set(list8)\n",
    "print(\"My list:\",list8)\n",
    "print(\"Unique Value is:\",list(a1))"
   ]
  },
  {
   "cell_type": "code",
   "execution_count": 234,
   "id": "0eb28ed7-7602-4e03-a327-1a9247b13614",
   "metadata": {},
   "outputs": [
    {
     "name": "stdout",
     "output_type": "stream",
     "text": [
      "True\n"
     ]
    }
   ],
   "source": [
    "#41) Write a Python program to check whether a list contains a sub list\n",
    "list9=[1,2,4,5,6,7,2,1,4,5,6,7]\n",
    "sublist=[1,2,4]\n",
    "r=False\n",
    "for i in range(len(list9) - len(sublist) + 1):\n",
    "    if list9[i: i + len(sublist)] == sublist:\n",
    "        r=True\n",
    "        break\n",
    "print(r)\n",
    "    "
   ]
  },
  {
   "cell_type": "code",
   "execution_count": 236,
   "id": "ae6d4ab8-b793-4cc3-b3b1-4142e5bc2a91",
   "metadata": {},
   "outputs": [
    {
     "name": "stdout",
     "output_type": "stream",
     "text": [
      "('Priya', 'Suruchi', 'Twinkle', 'Ashvini')\n",
      "(23, 28, 26, 31)\n",
      "('Blue', 'Blue', 'Green', 'Black')\n"
     ]
    }
   ],
   "source": [
    "#42) Write a Python program to split a list into different variables.\n",
    "mix=[(\"Priya\",\"Suruchi\",\"Twinkle\",\"Ashvini\"),(23,28,26,31),(\"Blue\",\"Blue\",\"Green\",\"Black\")]\n",
    "name,age,color=mix\n",
    "print(name)\n",
    "print(age)\n",
    "print(color)"
   ]
  },
  {
   "cell_type": "code",
   "execution_count": 237,
   "id": "cc4b2e32-bb6e-48e1-b793-fc83a04bebae",
   "metadata": {},
   "outputs": [
    {
     "data": {
      "text/plain": [
       "'Tuple written with round brackets() and List written with Square brackets[].'"
      ]
     },
     "execution_count": 237,
     "metadata": {},
     "output_type": "execute_result"
    }
   ],
   "source": [
    "#43) What is tuple? Difference between list and tuple.\n",
    "#answer:\n",
    "\"\"\"Tuple is a collection. It is used to store multiple items in a single variable.Tuple is written with round brackets.\"\"\"\n",
    "\"\"\"The  difference between lists and tuples is that tuples can't be changed after they're created, but lists can be modified.\n",
    "It means tuples are immutable and list are mutuable.\"\"\"\n",
    "\"\"\"Tuple written with round brackets() and List written with Square brackets[].\"\"\""
   ]
  },
  {
   "cell_type": "code",
   "execution_count": 238,
   "id": "5aced3d8-b353-40a6-9f87-10f39486d5ca",
   "metadata": {},
   "outputs": [
    {
     "name": "stdout",
     "output_type": "stream",
     "text": [
      "('r', 14, 12.5, False)\n"
     ]
    }
   ],
   "source": [
    "#44) Write a Python program to create a tuple with different data types. \n",
    "t=(\"r\",14,12.5,False)\n",
    "print(t)"
   ]
  },
  {
   "cell_type": "code",
   "execution_count": 240,
   "id": "a3af4aea-79a3-4175-9a66-b6cc4bd37cc9",
   "metadata": {},
   "outputs": [
    {
     "name": "stdout",
     "output_type": "stream",
     "text": [
      "[('Priya', 23, 'Pink'), ('Suruchi', 28, 'Blue'), ('Twinkle', 26, 'Green'), ('Ashvini', 31, 'Black')]\n"
     ]
    }
   ],
   "source": [
    "#45) Write a Python program to unzip a list of tuples into individual lists.\n",
    "list10=[(\"Priya\",\"Suruchi\",\"Twinkle\",\"Ashvini\"),(23,28,26,31),(\"Pink\",\"Blue\",\"Green\",\"Black\")]\n",
    "un=list(zip(*list10))\n",
    "print(un)"
   ]
  },
  {
   "cell_type": "code",
   "execution_count": 245,
   "id": "f1ac03d0-828c-46d0-960d-f691b35e708e",
   "metadata": {},
   "outputs": [
    {
     "name": "stdout",
     "output_type": "stream",
     "text": [
      "{'Priya': [23, 29], 'Suruchi': [28], 'Twinkle': [26], 'Ashvini': [30]}\n"
     ]
    }
   ],
   "source": [
    "#46) Write a Python program to convert a list of tuples into a dictionary.\n",
    "list11=[(\"Priya\",23),(\"Suruchi\",28),(\"Twinkle\",26),(\"Ashvini\",30),(\"Priya\",29)]\n",
    "d1={}\n",
    "for name,marks in list11:\n",
    "    d1.setdefault(name,[]).append(marks)\n",
    "print(d1)"
   ]
  },
  {
   "cell_type": "code",
   "execution_count": 250,
   "id": "4a071e8c-89c8-40ba-bad5-01393635caf8",
   "metadata": {},
   "outputs": [
    {
     "name": "stdout",
     "output_type": "stream",
     "text": [
      "{'Maths': 91, 'Physics': 85, 'Chemistry': 72}\n"
     ]
    }
   ],
   "source": [
    "#47) How will you create a dictionary using tuples in python? \n",
    "#answer: using dict() and zip()function\n",
    "k=(\"Maths\",\"Physics\",\"Chemistry\")\n",
    "v=(91,85,72)\n",
    "if len(k)==len(v):\n",
    "    re=dict(zip(k,v))\n",
    "    print(re)"
   ]
  },
  {
   "cell_type": "code",
   "execution_count": 255,
   "id": "9572c406-9c8b-4863-8855-ad88fa00f550",
   "metadata": {},
   "outputs": [
    {
     "name": "stdout",
     "output_type": "stream",
     "text": [
      "{'Maths': 92, 'Physics': 85, 'Chemistry': 72}\n"
     ]
    }
   ],
   "source": [
    "t2=((\"Maths\",92),(\"Physics\",85),(\"Chemistry\",72))\n",
    "re1=dict((x,y) for x, y in t2)\n",
    "print(re1)"
   ]
  },
  {
   "cell_type": "code",
   "execution_count": 268,
   "id": "52a40fa0-a545-44fb-97ff-4f4274bcae4b",
   "metadata": {},
   "outputs": [
    {
     "name": "stdout",
     "output_type": "stream",
     "text": [
      "Assending dict: {'Chemistry': 80, 'Physics': 87, 'Math': 90, 'Python': 95}\n",
      "Decending Dict: {'Chemistry': 95, 'Math': 90, 'Physics': 87, 'Python': 80}\n"
     ]
    }
   ],
   "source": [
    "#48) Write a Python script to sort (ascending and descending) a dictionary by value.\n",
    "d3={'Math': 90, 'Chemistry': 80, 'Physics': 87, 'Python':95}\n",
    "d4={}\n",
    "for key in sorted(d3,key=d3.get):\n",
    "    d4[key]=d3[key]\n",
    "d5=dict(zip(sorted(d4), reversed(sorted(d4.values()))))\n",
    "print(\"Assending dict:\",d4)\n",
    "print(\"Decending Dict:\",d5)"
   ]
  },
  {
   "cell_type": "code",
   "execution_count": 269,
   "id": "f50dc32b-bcdc-4479-8f16-92657898c0d6",
   "metadata": {},
   "outputs": [
    {
     "name": "stdout",
     "output_type": "stream",
     "text": [
      "{'Math': 90, 'Chemistry': 80, 'Physics': 87, 'Python': 95, 1: 90, 2: 80, 3: 87, 4: 95}\n"
     ]
    }
   ],
   "source": [
    "#49) Write a Python script to concatenate following dictionaries to create a new one.\n",
    "d6={'Math': 90, 'Chemistry': 80, 'Physics': 87, 'Python':95}\n",
    "d7={1:90,2:80,3:87,4:95}\n",
    "d8={}\n",
    "for i in d6,d7:\n",
    "    d8.update(i)\n",
    "print(d8)"
   ]
  },
  {
   "cell_type": "code",
   "execution_count": 285,
   "id": "10b2c53e-6842-4367-8be8-95f1c7b0e2e9",
   "metadata": {},
   "outputs": [
    {
     "name": "stdin",
     "output_type": "stream",
     "text": [
      "Enter a key: Physics\n"
     ]
    },
    {
     "name": "stdout",
     "output_type": "stream",
     "text": [
      "Key is already exixts\n"
     ]
    }
   ],
   "source": [
    "#50) Write a Python script to check if a given key already exists in a dictionary.\n",
    "d9={'Math': 90, 'Chemistry': 80, 'Physics': 87, 'Python':95}\n",
    "inp=input(\"Enter a key:\")\n",
    "if inp in d9:\n",
    "    print(\"Key is already exixts\")\n",
    "else:\n",
    "    print(\"Key is not exixts\")"
   ]
  },
  {
   "cell_type": "code",
   "execution_count": null,
   "id": "99e54e98-e3eb-4ba1-a78c-2ab104fb0186",
   "metadata": {},
   "outputs": [],
   "source": [
    "#51) How Do You Traverse Through a Dictionary Object in Python?\n",
    "#Answer:\n",
    "\"\"\" There are many methods to traverse dictionary items:\n",
    "(1).keys():return all  keys.\n",
    "(2).values(): return all values.\n",
    "(3).items():return items in key-value pairs.\n",
    "(4) using for loop to loop through the dictionary.\n",
    "(5)Access keys using dict.get.\n",
    "(6)Access keys in Python using zip().\n",
    "(7)Access keys through the unpacking of a dictionary.\"\"\""
   ]
  },
  {
   "cell_type": "code",
   "execution_count": 288,
   "id": "476d6ee0-b2c6-45aa-845d-c6ce2045fed5",
   "metadata": {},
   "outputs": [
    {
     "name": "stdin",
     "output_type": "stream",
     "text": [
      "Enter a key: Math\n"
     ]
    },
    {
     "name": "stdout",
     "output_type": "stream",
     "text": [
      "Key is already exixts\n"
     ]
    }
   ],
   "source": [
    "#52) How Do You Check the Presence of a Key in A Dictionary? \n",
    "#answer: using .keys()method and membership operator\n",
    "d10={'Math': 90, 'Chemistry': 80, 'Physics': 87, 'Python':95}\n",
    "inp=input(\"Enter a key:\")\n",
    "if inp in d10:\n",
    "    print(\"Key is already exixts\")\n",
    "else:\n",
    "    print(\"Key is not exixts\")"
   ]
  },
  {
   "cell_type": "code",
   "execution_count": 289,
   "id": "00a8b674-3295-49fa-9282-09a98d9da643",
   "metadata": {},
   "outputs": [
    {
     "name": "stdin",
     "output_type": "stream",
     "text": [
      "Enter a key: math\n"
     ]
    },
    {
     "name": "stdout",
     "output_type": "stream",
     "text": [
      "Key is not exixts\n"
     ]
    }
   ],
   "source": [
    "d11={'Math': 90, 'Chemistry': 80, 'Physics': 87, 'Python':95}\n",
    "inp=input(\"Enter a key:\")\n",
    "if inp in d11.keys():\n",
    "    print(\"Key is already exixts\")\n",
    "else:\n",
    "    print(\"Key is not exixts\")"
   ]
  },
  {
   "cell_type": "code",
   "execution_count": 295,
   "id": "a82da13b-3894-41d9-8a14-c52f2029f168",
   "metadata": {},
   "outputs": [
    {
     "name": "stdout",
     "output_type": "stream",
     "text": [
      "{1: 1, 2: 4, 3: 9, 4: 16, 5: 25, 6: 36, 7: 49, 8: 64, 9: 81, 10: 100, 11: 121, 12: 144, 13: 169, 14: 196}\n"
     ]
    }
   ],
   "source": [
    "#53) Write a Python script to print a dictionary where the keys are numbers between 1 and 15.\n",
    "d12={}\n",
    "for i in range(1,15):\n",
    "    d12[i]=i**2\n",
    "print(d12)\n",
    "    "
   ]
  },
  {
   "cell_type": "code",
   "execution_count": 301,
   "id": "22957f75-40f9-4e95-8141-6f52199a6696",
   "metadata": {},
   "outputs": [
    {
     "name": "stdin",
     "output_type": "stream",
     "text": [
      "Enter a number to check how much keys want to check: 4\n",
      "Enter a key: Key\n"
     ]
    },
    {
     "name": "stdout",
     "output_type": "stream",
     "text": [
      "Not Exists\n"
     ]
    },
    {
     "name": "stdin",
     "output_type": "stream",
     "text": [
      "Enter a key: Math\n"
     ]
    },
    {
     "name": "stdout",
     "output_type": "stream",
     "text": [
      "Exists\n"
     ]
    },
    {
     "name": "stdin",
     "output_type": "stream",
     "text": [
      "Enter a key: Python\n"
     ]
    },
    {
     "name": "stdout",
     "output_type": "stream",
     "text": [
      "Exists\n"
     ]
    },
    {
     "name": "stdin",
     "output_type": "stream",
     "text": [
      "Enter a key: Physics\n"
     ]
    },
    {
     "name": "stdout",
     "output_type": "stream",
     "text": [
      "Exists\n"
     ]
    }
   ],
   "source": [
    "#54) Write a Python program to check multiple keys exists in a dictionary \n",
    "d13={'Math': 90, 'Chemistry': 80, 'Physics': 87, 'Python':95}\n",
    "ask=int(input(\"Enter a number to check how much keys want to check:\"))\n",
    "for i in range(ask):\n",
    "    chk=input(\"Enter a key:\")\n",
    "    if chk in d13.keys():\n",
    "        print(\"Exists\")\n",
    "    else:\n",
    "        print(\"Not Exists\")\n",
    "        "
   ]
  },
  {
   "cell_type": "code",
   "execution_count": 303,
   "id": "3e078014-85ad-4eb3-9268-8c3cb5584892",
   "metadata": {},
   "outputs": [
    {
     "name": "stdout",
     "output_type": "stream",
     "text": [
      "Merged dict: {'a': 1, 'b': 2, 'c': 3, 'aa': 1, 'bb': 2, 'cc': 3}\n"
     ]
    }
   ],
   "source": [
    "#55) Write a Python script to merge two Python dictionaries\n",
    "d14={\"a\":1,\"b\":2,\"c\":3}\n",
    "d15={\"aa\":1,\"bb\":2,\"cc\":3}\n",
    "d14.update(d15)\n",
    "print(\"Merged dict:\",d14)"
   ]
  },
  {
   "cell_type": "code",
   "execution_count": 304,
   "id": "ac3a248c-84d5-4c1c-8ef7-ab64e2178914",
   "metadata": {},
   "outputs": [
    {
     "name": "stdout",
     "output_type": "stream",
     "text": [
      "Dictionary: {'a': 400, 'b': 400, 'c': 400, 'd': 300}\n"
     ]
    }
   ],
   "source": [
    "#56) Write a Python program to map two lists into a dictionary \n",
    "#Sample output: Counter ({'a': 400, 'b': 400,’d’: 400, 'c': 300}).\n",
    "k1=[\"a\",\"b\",\"c\",\"d\"]\n",
    "v1=[400,400,400,300]\n",
    "d16=dict(zip(k1,v1))\n",
    "print(\"Dictionary:\",d16)"
   ]
  },
  {
   "cell_type": "code",
   "execution_count": 312,
   "id": "fd01697e-677f-4f4d-8591-bfbc712425fa",
   "metadata": {},
   "outputs": [
    {
     "name": "stdout",
     "output_type": "stream",
     "text": [
      "Hightest 3 values is:\n",
      "c:6\n",
      "bb:5\n",
      "aa:4\n"
     ]
    }
   ],
   "source": [
    "#57) Write a Python program to find the highest 3 values in a dictionary\n",
    "d17={'a': 1, 'b': 2, 'c': 6, 'aa': 4, 'bb': 5, 'cc': 3}\n",
    "l7=list(d17.values())\n",
    "l7.sort(reverse=True)\n",
    "l7=l7[:3]\n",
    "print(\"Highest 3 values is:\")\n",
    "for i in l7:\n",
    "    for j in d17.keys():\n",
    "        if(d17[j]==i):\n",
    "            print(str(j)+\":\"+str(d17[j]))"
   ]
  },
  {
   "cell_type": "code",
   "execution_count": 315,
   "id": "98657ee7-c85d-4224-a896-5a85d26641be",
   "metadata": {},
   "outputs": [
    {
     "name": "stdout",
     "output_type": "stream",
     "text": [
      "Highest 3 value is: [6, 5, 4]\n"
     ]
    }
   ],
   "source": [
    "d18={'a': 1, 'b': 2, 'c': 6, 'aa': 4, 'bb': 5, 'cc': 3}\n",
    "l8=[]\n",
    "for i in d18.values():\n",
    "    l8.append(i)\n",
    "    l8.sort(reverse=True)\n",
    "print(\"Highest 3 value is:\",l8[:3])"
   ]
  },
  {
   "cell_type": "code",
   "execution_count": 320,
   "id": "736fdc7a-98fb-49be-aa7a-bc7caa689ea0",
   "metadata": {},
   "outputs": [
    {
     "name": "stdout",
     "output_type": "stream",
     "text": [
      "{'item1': 1150, 'item2': 300}\n"
     ]
    }
   ],
   "source": [
    "#58)Write a Python program to combine values in python list of dictionaries.\n",
    "#Sample data: [{'item': 'item1', 'amount': 400}, {'item': 'item2', 'amount': 300}, {'item': 'item1', 'amount': 750}]\n",
    "sd=[{'item': 'item1', 'amount': 400}, {'item': 'item2', 'amount': 300}, {'item': 'item1', 'amount': 750}]\n",
    "d19={}\n",
    "for i in sd:\n",
    "    if i[\"item\"] in d19:\n",
    "        d19[i[\"item\"]]+=i[\"amount\"]\n",
    "    else:\n",
    "        d19[i[\"item\"]]=i[\"amount\"]\n",
    "print(d19)"
   ]
  },
  {
   "cell_type": "code",
   "execution_count": 325,
   "id": "87c1c065-3c90-49a7-bde2-3c56a8d709ed",
   "metadata": {},
   "outputs": [
    {
     "name": "stdout",
     "output_type": "stream",
     "text": [
      "{'w': 1, '3': 1, 'r': 2, 'e': 2, 's': 1, 'o': 1, 'u': 1, 'c': 1}\n"
     ]
    }
   ],
   "source": [
    "# 59) Write a Python program to create a dictionary from a string. Note: Track the count of the letters from the string.\n",
    "#60) Sample string:'w3resource' \n",
    "#Expected output: \n",
    "#{'3': 1,’s’: 1, 'r': 2, 'u': 1, 'w': 1, 'c': 1, 'e': 2, 'o': 1} \n",
    "st1=\"w3resource\"\n",
    "dict5 = {}\n",
    "for i in st1:\n",
    "    if i in dict5:\n",
    "        dict5[i] += 1\n",
    "    else:\n",
    "        dict5[i] = 1\n",
    "print(dict5)"
   ]
  },
  {
   "cell_type": "code",
   "execution_count": 359,
   "id": "f2d96a2b-dccf-40b4-add7-09ce76caba5b",
   "metadata": {},
   "outputs": [],
   "source": [
    "#61) Write a Python function to calculate the factorial of a number (a nonnegative integer)\n",
    "def fact(n):\n",
    "    f=1\n",
    "    if n>=0:\n",
    "        for i in range(1, n+1):\n",
    "            f*=i\n",
    "        print(\"Factorial of\",n,\"is:\",f)\n",
    "    else:\n",
    "        print(\"No factorial for negative integer:\")\n",
    "    "
   ]
  },
  {
   "cell_type": "code",
   "execution_count": 356,
   "id": "d04c5dd5-256b-4492-9c83-22970cc9f511",
   "metadata": {},
   "outputs": [
    {
     "name": "stdout",
     "output_type": "stream",
     "text": [
      "Factorial of 5 is: 120\n"
     ]
    }
   ],
   "source": [
    "fact(5)"
   ]
  },
  {
   "cell_type": "code",
   "execution_count": 360,
   "id": "f676db47-7f72-4703-b63b-de48a8d9ee61",
   "metadata": {},
   "outputs": [
    {
     "name": "stdout",
     "output_type": "stream",
     "text": [
      "No factorial for negative integer:\n"
     ]
    }
   ],
   "source": [
    "fact(-1)"
   ]
  },
  {
   "cell_type": "code",
   "execution_count": 361,
   "id": "0d3aa82f-9d4b-4e90-b023-73394e5fef1c",
   "metadata": {},
   "outputs": [
    {
     "name": "stdout",
     "output_type": "stream",
     "text": [
      "Factorial of 0 is: 1\n"
     ]
    }
   ],
   "source": [
    "fact(0)"
   ]
  },
  {
   "cell_type": "code",
   "execution_count": 367,
   "id": "5d49f7f0-900e-4e10-88bc-d94d720ada54",
   "metadata": {},
   "outputs": [],
   "source": [
    "#62) Write a Python function to check whether a number is in a given range.\n",
    "def ran(a):\n",
    "    if a in range(1,100):\n",
    "        print(\"Number is in a given Range:\")\n",
    "    else:\n",
    "        print(\"Number is not in range:\")"
   ]
  },
  {
   "cell_type": "code",
   "execution_count": 368,
   "id": "167a0c2b-b823-4954-a03e-b639647cb1d3",
   "metadata": {},
   "outputs": [
    {
     "name": "stdout",
     "output_type": "stream",
     "text": [
      "Number is in a given Range:\n"
     ]
    }
   ],
   "source": [
    "ran(10)"
   ]
  },
  {
   "cell_type": "code",
   "execution_count": 369,
   "id": "6bbc6593-6a7c-4d49-90a0-580aaf84ea2e",
   "metadata": {},
   "outputs": [
    {
     "name": "stdout",
     "output_type": "stream",
     "text": [
      "Number is not in range:\n"
     ]
    }
   ],
   "source": [
    "ran(-10)"
   ]
  },
  {
   "cell_type": "code",
   "execution_count": 386,
   "id": "2838c395-4352-4e85-8dda-dbcee5908bda",
   "metadata": {},
   "outputs": [],
   "source": [
    "#63) Write a Python function to check whether a number is perfect or not. \n",
    "def perfect(b):\n",
    "    s=0\n",
    "    for i in range(1,b):\n",
    "       if b%i == 0:\n",
    "           s+=i\n",
    "    if s==b:\n",
    "        print(b,\"Is perfect number:\")\n",
    "    else:\n",
    "        print(b,\"Is not perfect number:\")"
   ]
  },
  {
   "cell_type": "code",
   "execution_count": 391,
   "id": "751780c2-a630-49c3-aa06-ecb42ea73593",
   "metadata": {},
   "outputs": [
    {
     "name": "stdout",
     "output_type": "stream",
     "text": [
      "4 Is not perfect number\n"
     ]
    }
   ],
   "source": [
    "perfect(4)"
   ]
  },
  {
   "cell_type": "code",
   "execution_count": 392,
   "id": "3a098b24-9f28-4989-9a07-d1ed8ec2f5da",
   "metadata": {},
   "outputs": [
    {
     "name": "stdout",
     "output_type": "stream",
     "text": [
      "6 Is perfect number:\n"
     ]
    }
   ],
   "source": [
    "perfect(6)"
   ]
  },
  {
   "cell_type": "code",
   "execution_count": 394,
   "id": "c041a66a-fa44-4519-a4d7-85b9e9c08941",
   "metadata": {},
   "outputs": [],
   "source": [
    "#64) Write a Python function that checks whether a passed string is palindrome or not,\n",
    "def palindrome(word):\n",
    "    if word==word[::-1]:\n",
    "        print(\"Palindrome\")\n",
    "    else:\n",
    "        print(\"Not Palindrome\")"
   ]
  },
  {
   "cell_type": "code",
   "execution_count": 398,
   "id": "d33ebb11-d8b6-4d68-a45c-d5d3fb5df10e",
   "metadata": {},
   "outputs": [
    {
     "name": "stdout",
     "output_type": "stream",
     "text": [
      "Palindrome\n"
     ]
    }
   ],
   "source": [
    "palindrome(\"appa\")"
   ]
  },
  {
   "cell_type": "code",
   "execution_count": 399,
   "id": "00eceace-e8ab-4977-a08a-4d9661b6d6b9",
   "metadata": {},
   "outputs": [
    {
     "name": "stdout",
     "output_type": "stream",
     "text": [
      "Not Palindrome\n"
     ]
    }
   ],
   "source": [
    "palindrome(\"abc\")"
   ]
  },
  {
   "cell_type": "code",
   "execution_count": null,
   "id": "2dbbe181-be8d-4468-b4dc-05171aaee24a",
   "metadata": {},
   "outputs": [],
   "source": [
    "#65) How Many Basic Types of Functions Are Available in Python? \n",
    "#Answer:\n",
    "\"\"\"There are two types of functions are available in python.\n",
    "(1) built- in function \n",
    "(2) user define function :-To define a user-defined function, the def keyword is used. \n",
    "(3) Anonymous functions :- It is also known as lambda function.\"\"\""
   ]
  },
  {
   "cell_type": "code",
   "execution_count": 416,
   "id": "4d032220-9c0f-49f4-96db-dd5585488d87",
   "metadata": {},
   "outputs": [
    {
     "name": "stdout",
     "output_type": "stream",
     "text": [
      "Pick Random item from list: 6\n",
      "Pick random item from tuple: Priya\n"
     ]
    }
   ],
   "source": [
    "#66) How can you pick a random item from a list or tuple? \n",
    "#Answer:\n",
    "\"\"\"USing import random module use random.choice()\"\"\"\n",
    "list9=[1,2,4,5,6,7,2,1,4,5,6,7]\n",
    "print(\"Pick Random item from list:\",random.choice(list9))\n",
    "tup=(\"Priya\",\"Suruchi\",\"Twinkle\",\"Ashvini\")\n",
    "print(\"Pick random item from tuple:\",random.choice(tup))"
   ]
  },
  {
   "cell_type": "code",
   "execution_count": 428,
   "id": "4ee32c85-54ba-4dd3-873c-e45f6f590cd0",
   "metadata": {},
   "outputs": [
    {
     "name": "stdout",
     "output_type": "stream",
     "text": [
      "5\n"
     ]
    }
   ],
   "source": [
    "#67) How can you pick a random item from a range? \n",
    "#Answer:using ramdom.randrange() function\n",
    "a3=random.randrange(1,10)\n",
    "print(a3)"
   ]
  },
  {
   "cell_type": "code",
   "execution_count": 439,
   "id": "af3ff1c6-6c67-4e79-a271-798448de3e37",
   "metadata": {},
   "outputs": [
    {
     "name": "stdout",
     "output_type": "stream",
     "text": [
      "3\n"
     ]
    }
   ],
   "source": [
    "#68) How can you get a random number in python? \n",
    "#Answer:Using random.randint() function\n",
    "a4=random.randint(1,10)\n",
    "print(a4)"
   ]
  },
  {
   "cell_type": "code",
   "execution_count": 501,
   "id": "2fcde01c-f1a1-4470-88a3-b21f0b4f2810",
   "metadata": {},
   "outputs": [
    {
     "name": "stdout",
     "output_type": "stream",
     "text": [
      "64\n",
      "0.855695383743746\n"
     ]
    }
   ],
   "source": [
    "#69) How will you set the starting value in generating random numbers?\n",
    "#Answer:using random.seed()function\n",
    "random.seed(50)\n",
    "print(random.randint(1, 100)) \n",
    "print(random.random()) "
   ]
  },
  {
   "cell_type": "code",
   "execution_count": 493,
   "id": "5bc3a732-5794-450b-938b-dc2dc2d06d15",
   "metadata": {},
   "outputs": [
    {
     "name": "stdout",
     "output_type": "stream",
     "text": [
      "Original list is: ['Priya', 'Suruchi', 'Twinkle', 'Ashvini', 'Pink', 'Blue', 'Green', 'Black']\n",
      "Shuffle list: ['Blue', 'Twinkle', 'Green', 'Ashvini', 'Suruchi', 'Priya', 'Pink', 'Black']\n"
     ]
    }
   ],
   "source": [
    "#70) How will you randomize the items of a list in place?\n",
    "#Answer:Using random.shuffle() function\n",
    "lis88=[\"Priya\",\"Suruchi\",\"Twinkle\",\"Ashvini\",\"Pink\",\"Blue\",\"Green\",\"Black\"]\n",
    "print(\"Original list is:\",lis88)\n",
    "random.shuffle(lis88)\n",
    "print(\"Shuffle list:\",lis88)"
   ]
  },
  {
   "cell_type": "code",
   "execution_count": null,
   "id": "1a1c3033-05a1-4d26-868e-ad97c44bd539",
   "metadata": {},
   "outputs": [],
   "source": [
    "#71) What is File function in python? What are keywords to create and write file.\n",
    "#Answer:\n",
    "\"\"\"The file function allows the makefile to write to or read from a file.\n",
    "There are 3 keyword to create and write file.\n",
    "\"x\" - Create - Creates the specified file, returns an error if the file exists\n",
    "\n",
    "\"a\" - Append - Opens a file for appending, creates the file if it does not exist\n",
    "\n",
    "\"w\" - Write - Opens a file for writing, creates the file if it does not exist"
   ]
  },
  {
   "cell_type": "code",
   "execution_count": 448,
   "id": "13c0e05b-e3c7-4fd6-a778-162c9cba8389",
   "metadata": {},
   "outputs": [
    {
     "name": "stdout",
     "output_type": "stream",
     "text": [
      "Hello, My name is Priya rathod.\n",
      "I am 23 year old.\n",
      "I am From Ahmedabad,Gujarat.\n"
     ]
    }
   ],
   "source": [
    "#72) Write a Python program to read an entire text file. \n",
    "a=open(\"Priya.txt\",\"r\")\n",
    "print(a.read())"
   ]
  },
  {
   "cell_type": "code",
   "execution_count": 455,
   "id": "3e1f5dc2-26ac-4b9b-858d-43998c85159f",
   "metadata": {},
   "outputs": [],
   "source": [
    "#73) Write a Python program to append text to a file and display the text.\n",
    "a=open(\"Priya.txt\",\"a\")\n",
    "a.write(\"\\nMy sister name is Suruchi.\")\n",
    "a.close()"
   ]
  },
  {
   "cell_type": "code",
   "execution_count": 456,
   "id": "5c659951-ae30-4261-ab6f-ab7fae7ce16c",
   "metadata": {},
   "outputs": [
    {
     "name": "stdout",
     "output_type": "stream",
     "text": [
      "Hello, My name is Priya rathod.\n",
      "I am 23 year old.\n",
      "I am From Ahmedabad,Gujarat.\n",
      "My sister name is Suruchi.\n"
     ]
    }
   ],
   "source": [
    "a=open(\"Priya.txt\",\"r\")\n",
    "print(a.read())"
   ]
  },
  {
   "cell_type": "code",
   "execution_count": 464,
   "id": "19235841-ad22-423a-bcda-0f30ecef88aa",
   "metadata": {},
   "outputs": [
    {
     "name": "stdout",
     "output_type": "stream",
     "text": [
      "Hello, My name is Priya rathod.\n",
      "I am 23 year old.\n",
      "I am From Ahmedabad,Gujarat.\n",
      "My sister name is Suruchi.\n",
      "My Nickname is Piu.\n"
     ]
    }
   ],
   "source": [
    "with open(\"Priya.txt\", \"a\") as a:\n",
    "    a.write(\"\\nMy Nickname is Piu.\")\n",
    "aa= open(\"Priya.txt\")\n",
    "print(aa.read())"
   ]
  },
  {
   "cell_type": "code",
   "execution_count": 466,
   "id": "bc269bdb-8898-41fe-86bc-979d915b3da6",
   "metadata": {},
   "outputs": [
    {
     "name": "stdout",
     "output_type": "stream",
     "text": [
      "Hello, My name is Priya rathod.\n",
      "\n"
     ]
    }
   ],
   "source": [
    "#74) Write a Python program to read first n lines of a file.\n",
    "with open(\"Priya.txt\") as a:\n",
    "    print(a.readline())"
   ]
  },
  {
   "cell_type": "code",
   "execution_count": null,
   "id": "9f02e13c-62bb-446b-b7a8-7ea855d9f725",
   "metadata": {},
   "outputs": [],
   "source": [
    "#83) Explain Exception handling? What is an Error in Python?\n",
    "\"\"\"Exception handling is a mechanism in Python to handle runtime errors in a controlled manner. \n",
    "It allows a program to continue executing or gracefully terminate after an error occurs, rather than crashing unexpectedly.\n",
    "This is done using several keywords: try, except, else, and finally.\n",
    "Key components:\n",
    "1)try block: This is the code block where you write the statements that might raise an exception.\n",
    "2)except block: This is the block that catches the exception. If an exception occurs in the try block, \n",
    "the code inside the corresponding except block is executed.\n",
    "3)else block: This block is optional. If no exceptions are raised in the try block,\n",
    "the code in the else block is executed.\n",
    "4)finally block: This is an optional block. The code inside it will always execute,\n",
    "regardless of whether an exception was raised or not. It is typically used to release resources, like closing a file or a network connection.\"\"\"\n",
    "#ERROR\n",
    "\"\"\"An error refers to a problem in the code that causes the program to fail or behave unexpectedly. \n",
    "Errors are generally classified into two categories: Syntax Errors and Exceptions (Runtime Errors).\n",
    "1. Syntax Errors\n",
    "A Syntax Error occurs when the Python interpreter detects invalid syntax in the code before it is executed.\n",
    "Syntax errors are caused by writing code that violates the grammar or structure rules of Python.\n",
    "2. Exceptions (Runtime Errors)\n",
    "An Exception is an error that occurs during the execution of a program. Even if a program is syntactically correct,\n",
    "it may encounter issues during execution that disrupt the normal flow of the program. These runtime errors are called exceptions.\"\"\""
   ]
  },
  {
   "cell_type": "code",
   "execution_count": null,
   "id": "3b90040b-8aa7-43bd-a84c-c4655bcc76ce",
   "metadata": {},
   "outputs": [],
   "source": [
    "#84) How many except statements can a try-except block have? Name Some built-in exception classes: \n",
    "\"\"\"A try-except block in Python can have multiple except statements, allowing you to handle different exceptions in different ways. \n",
    "There is no fixed limit to the number of except blocks; you can have as many as you need.\"\"\"\n",
    "#Built-in Exception classes:\n",
    "\"\"\"NameError - Raised when a local or global name is not found.\"\"\"\n",
    "\"\"\"ZeroDivisionError - Raised when a division or modulo operation is attempted with zero.\"\"\"\n",
    "\"\"\"TypeError - Raised when an operation or function is applied to an object of inappropriate type\"\"\""
   ]
  },
  {
   "cell_type": "code",
   "execution_count": null,
   "id": "34c3a319-dd31-4c7f-bcea-45780e7dc517",
   "metadata": {},
   "outputs": [],
   "source": [
    "#85) When will the else part of try-except-else be executed?\n",
    "\"\"\"In a try-except-else block, the else part will be executed only if no exception occurs in the try block.\"\"\""
   ]
  },
  {
   "cell_type": "code",
   "execution_count": 467,
   "id": "0372a520-b587-493d-bf3b-99968fb078d0",
   "metadata": {},
   "outputs": [
    {
     "name": "stdout",
     "output_type": "stream",
     "text": [
      "An error occurred: division by zero or value error\n"
     ]
    }
   ],
   "source": [
    "#86) Can one block of except statements handle multiple exception? \n",
    "#Answer: YES\n",
    "try:\n",
    "    result = 10 / 0\n",
    "except (ZeroDivisionError, ValueError):\n",
    "    print(\"An error occurred: division by zero or value error\")"
   ]
  },
  {
   "cell_type": "code",
   "execution_count": null,
   "id": "50e75fd8-63cf-467b-8b7b-96f60d2838e4",
   "metadata": {},
   "outputs": [],
   "source": [
    "#87) When is the finally block executed?\n",
    "#Answer:\n",
    "\"\"\"The finally block is always executed, regardless of whether an exception occurs in the try block or not.\"\"\""
   ]
  },
  {
   "cell_type": "code",
   "execution_count": 469,
   "id": "bce692bc-40e7-44a9-9ff7-1c47deabb68c",
   "metadata": {},
   "outputs": [],
   "source": [
    "#88) What happens when „1‟== 1 is executed?\n",
    "#Answer:it compares a string (\"1\") with an integer (1).and return the False because both data type is different."
   ]
  },
  {
   "cell_type": "code",
   "execution_count": 474,
   "id": "edaf0e30-c9c5-48ae-9b19-c68bb706313e",
   "metadata": {},
   "outputs": [
    {
     "name": "stdin",
     "output_type": "stream",
     "text": [
      "Enter a number:  2\n"
     ]
    },
    {
     "name": "stdout",
     "output_type": "stream",
     "text": [
      "Execution of the program is complete.\n"
     ]
    }
   ],
   "source": [
    "#89) How Do You Handle Exceptions with Try/Except/Finally in Python? Explain with coding snippets.\n",
    "#Answer:\n",
    "\"\"\"In Python, you can handle exceptions using the try-except-finally construct.\n",
    "The try block contains the code that might raise an exception. \n",
    "The except block handles the exception if it occurs, \n",
    "and the finally block contains cleanup code that will always run,whether an exception occurred or not.\"\"\"\n",
    "#Example:\n",
    "try:\n",
    "    num = int(input(\"Enter a number: \"))\n",
    "    result = 10 / num\n",
    "except ZeroDivisionError:\n",
    "    print(\"Error! Division by zero is not allowed.\")\n",
    "finally:\n",
    "    print(\"Execution of the program is complete.\")"
   ]
  },
  {
   "cell_type": "code",
   "execution_count": 7,
   "id": "a32f83a9-7ded-4e60-9fc4-84f4ff3fd356",
   "metadata": {},
   "outputs": [
    {
     "name": "stdin",
     "output_type": "stream",
     "text": [
      "Enter an odd number:  5\n"
     ]
    },
    {
     "name": "stdout",
     "output_type": "stream",
     "text": [
      "Thank you! 5 is an odd number.\n",
      "Program execution completed.\n"
     ]
    }
   ],
   "source": [
    "#90) Write python program that user to enter only odd numbers, else will raise an exception. \n",
    "def odd():\n",
    "    try:\n",
    "        number = int(input(\"Enter an odd number: \"))\n",
    "        if number % 2 == 0:\n",
    "            raise odd()(\"This is not an odd number!\")\n",
    "    except ValueError:\n",
    "        print(\"Invalid input! Please enter a valid integer.\")\n",
    "    except odd as e:\n",
    "        print(e)\n",
    "    else:\n",
    "        print(f\"Thank you! {number} is an odd number.\")\n",
    "    finally:\n",
    "        print(\"Program execution completed.\")\n",
    "odd()"
   ]
  }
 ],
 "metadata": {
  "kernelspec": {
   "display_name": "Python 3 (ipykernel)",
   "language": "python",
   "name": "python3"
  },
  "language_info": {
   "codemirror_mode": {
    "name": "ipython",
    "version": 3
   },
   "file_extension": ".py",
   "mimetype": "text/x-python",
   "name": "python",
   "nbconvert_exporter": "python",
   "pygments_lexer": "ipython3",
   "version": "3.11.7"
  }
 },
 "nbformat": 4,
 "nbformat_minor": 5
}
